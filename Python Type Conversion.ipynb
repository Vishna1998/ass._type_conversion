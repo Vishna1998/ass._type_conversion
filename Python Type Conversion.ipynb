{
 "cells": [
  {
   "cell_type": "code",
   "execution_count": 5,
   "id": "0c7e2867-8212-4f73-845f-1e5b89e69935",
   "metadata": {},
   "outputs": [
    {
     "name": "stdout",
     "output_type": "stream",
     "text": [
      "5.0\n"
     ]
    }
   ],
   "source": [
    "#1. Covert a iteger to a floatig-poit umber.\n",
    "\n",
    "a=2\n",
    "b=3\n",
    "\n",
    "print( float(a) + float(b) )"
   ]
  },
  {
   "cell_type": "code",
   "execution_count": 7,
   "id": "46c9e70c-aee4-4b24-9247-9c78c9d959d4",
   "metadata": {},
   "outputs": [
    {
     "data": {
      "text/plain": [
       "float"
      ]
     },
     "execution_count": 7,
     "metadata": {},
     "output_type": "execute_result"
    }
   ],
   "source": [
    "type(5.0) "
   ]
  },
  {
   "cell_type": "code",
   "execution_count": 8,
   "id": "b66a6361-d8c2-48ab-8e76-61e56aaeb44a",
   "metadata": {},
   "outputs": [
    {
     "name": "stdout",
     "output_type": "stream",
     "text": [
      "5\n"
     ]
    }
   ],
   "source": [
    "#2.Covert a float to a iteger.\n",
    "\n",
    "def_a = 2.5\n",
    "def_b =3.5\n",
    "\n",
    "print(int(def_a) + int(def_b))\n"
   ]
  },
  {
   "cell_type": "code",
   "execution_count": 9,
   "id": "834cc9e4-28fd-4ea8-8396-9668a25fd65d",
   "metadata": {},
   "outputs": [
    {
     "data": {
      "text/plain": [
       "int"
      ]
     },
     "execution_count": 9,
     "metadata": {},
     "output_type": "execute_result"
    }
   ],
   "source": [
    "type(5)"
   ]
  },
  {
   "cell_type": "code",
   "execution_count": 10,
   "id": "10020312-f78b-4d87-bf8d-98d0034ad4c3",
   "metadata": {},
   "outputs": [
    {
     "name": "stdout",
     "output_type": "stream",
     "text": [
      "1225\n"
     ]
    }
   ],
   "source": [
    "#3. Covert a iteger to a string.\n",
    "\n",
    "def_a = \"12\"\n",
    "def_b = \"25\"\n",
    "\n",
    "print(def_a + def_b)"
   ]
  },
  {
   "cell_type": "code",
   "execution_count": 11,
   "id": "2492a584-efac-4810-b126-a68daa29199e",
   "metadata": {},
   "outputs": [
    {
     "data": {
      "text/plain": [
       "int"
      ]
     },
     "execution_count": 11,
     "metadata": {},
     "output_type": "execute_result"
    }
   ],
   "source": [
    "type(1225)"
   ]
  },
  {
   "cell_type": "code",
   "execution_count": 13,
   "id": "0919dc20-6bc3-4b46-bb26-cc3ad8cbe091",
   "metadata": {},
   "outputs": [
    {
     "data": {
      "text/plain": [
       "('vishan', 2422, 2.5, 'love')"
      ]
     },
     "execution_count": 13,
     "metadata": {},
     "output_type": "execute_result"
    }
   ],
   "source": [
    "#4.Covert a li%t to a tuple.\n",
    "\n",
    "\n",
    "def_list  = [\"vishan\" , 2422, 2.5 , \"love\"]\n",
    "\n",
    "tuple(def_list)\n",
    "\n"
   ]
  },
  {
   "cell_type": "code",
   "execution_count": 14,
   "id": "c34b3364-84d8-4d78-87bc-7317f3881015",
   "metadata": {},
   "outputs": [
    {
     "data": {
      "text/plain": [
       "list"
      ]
     },
     "execution_count": 14,
     "metadata": {},
     "output_type": "execute_result"
    }
   ],
   "source": [
    "type(def_list)"
   ]
  },
  {
   "cell_type": "code",
   "execution_count": 15,
   "id": "792f4e01-d100-4edc-9893-e8e69368469c",
   "metadata": {},
   "outputs": [
    {
     "data": {
      "text/plain": [
       "['vishan', 2422, 2.5, 'love']"
      ]
     },
     "execution_count": 15,
     "metadata": {},
     "output_type": "execute_result"
    }
   ],
   "source": [
    "#5.I Covert a tuple to a li%t.\n",
    "def_tups = (\"vishan\" , 2422, 2.5 , \"love\")\n",
    "\n",
    "list(def_tups)\n"
   ]
  },
  {
   "cell_type": "code",
   "execution_count": 16,
   "id": "58a243cf-983a-4971-b81b-e19650a4ee6e",
   "metadata": {},
   "outputs": [
    {
     "data": {
      "text/plain": [
       "tuple"
      ]
     },
     "execution_count": 16,
     "metadata": {},
     "output_type": "execute_result"
    }
   ],
   "source": [
    "type(def_tups)"
   ]
  },
  {
   "cell_type": "code",
   "execution_count": 17,
   "id": "1d1fcbaf-8d9f-412c-82f5-59be218c0d6a",
   "metadata": {},
   "outputs": [],
   "source": [
    "#6.Covert a decimal umber to biary.\n",
    "\n",
    "\n",
    "a=5"
   ]
  },
  {
   "cell_type": "code",
   "execution_count": 18,
   "id": "ae586532-f7e6-45c8-9538-7f62261ada03",
   "metadata": {},
   "outputs": [
    {
     "name": "stdout",
     "output_type": "stream",
     "text": [
      "0b101\n"
     ]
    }
   ],
   "source": [
    "print(bin(a))"
   ]
  },
  {
   "cell_type": "code",
   "execution_count": 19,
   "id": "61b4fa22-e170-4b17-a2b2-8c70d54cf3d1",
   "metadata": {},
   "outputs": [
    {
     "data": {
      "text/plain": [
       "int"
      ]
     },
     "execution_count": 19,
     "metadata": {},
     "output_type": "execute_result"
    }
   ],
   "source": [
    "type(0b101)"
   ]
  },
  {
   "cell_type": "code",
   "execution_count": 20,
   "id": "cce2d6da-d603-44e1-a247-3fd49883e954",
   "metadata": {},
   "outputs": [],
   "source": [
    "#7. Covert a o-zero umber to boolean\n",
    "\n",
    "a=5"
   ]
  },
  {
   "cell_type": "code",
   "execution_count": 21,
   "id": "0a296061-6572-4c30-97bf-0d6b148aeb0f",
   "metadata": {},
   "outputs": [
    {
     "name": "stdout",
     "output_type": "stream",
     "text": [
      "True\n"
     ]
    }
   ],
   "source": [
    "print(bool(a))"
   ]
  },
  {
   "cell_type": "code",
   "execution_count": null,
   "id": "d0623f3e-1699-451b-adad-e072d0456d3a",
   "metadata": {},
   "outputs": [],
   "source": []
  }
 ],
 "metadata": {
  "kernelspec": {
   "display_name": "Python 3 (ipykernel)",
   "language": "python",
   "name": "python3"
  },
  "language_info": {
   "codemirror_mode": {
    "name": "ipython",
    "version": 3
   },
   "file_extension": ".py",
   "mimetype": "text/x-python",
   "name": "python",
   "nbconvert_exporter": "python",
   "pygments_lexer": "ipython3",
   "version": "3.11.5"
  }
 },
 "nbformat": 4,
 "nbformat_minor": 5
}
